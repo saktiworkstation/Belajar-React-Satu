{
  "nbformat": 4,
  "nbformat_minor": 0,
  "metadata": {
    "colab": {
      "provenance": [],
      "authorship_tag": "ABX9TyM6dFl8M9yv+LH/zAP1P4W5",
      "include_colab_link": true
    },
    "kernelspec": {
      "name": "python3",
      "display_name": "Python 3"
    },
    "language_info": {
      "name": "python"
    }
  },
  "cells": [
    {
      "cell_type": "markdown",
      "metadata": {
        "id": "view-in-github",
        "colab_type": "text"
      },
      "source": [
        "<a href=\"https://colab.research.google.com/github/saktiworkstation/Belajar-React-Satu/blob/main/Percobaan_GNN_Graph_Sage_%2B_LLM.ipynb\" target=\"_parent\"><img src=\"https://colab.research.google.com/assets/colab-badge.svg\" alt=\"Open In Colab\"/></a>"
      ]
    },
    {
      "cell_type": "markdown",
      "source": [
        "Pada dasarnya saya Mengambil keputusan untuk terus menambahkan kerumitan pada riset ini agar hasil dari riset ini akan relevan untuk waktu yang lebih lama, dengan hasil yang baik."
      ],
      "metadata": {
        "id": "0n592ydjD1F9"
      }
    },
    {
      "cell_type": "code",
      "source": [
        "!pip install torch-geometric\n",
        "!pip install transformers"
      ],
      "metadata": {
        "colab": {
          "base_uri": "https://localhost:8080/"
        },
        "id": "DMWGqToNLBcV",
        "outputId": "34604c47-53f0-4818-ae8e-7c8b2968a91f"
      },
      "execution_count": 1,
      "outputs": [
        {
          "output_type": "stream",
          "name": "stdout",
          "text": [
            "Collecting torch-geometric\n",
            "  Downloading torch_geometric-2.6.1-py3-none-any.whl.metadata (63 kB)\n",
            "\u001b[?25l     \u001b[90m━━━━━━━━━━━━━━━━━━━━━━━━━━━━━━━━━━━━━━━━\u001b[0m \u001b[32m0.0/63.1 kB\u001b[0m \u001b[31m?\u001b[0m eta \u001b[36m-:--:--\u001b[0m\r\u001b[2K     \u001b[90m━━━━━━━━━━━━━━━━━━━━━━━━━━━━━━━━━━━━━━━━\u001b[0m \u001b[32m63.1/63.1 kB\u001b[0m \u001b[31m1.6 MB/s\u001b[0m eta \u001b[36m0:00:00\u001b[0m\n",
            "\u001b[?25hRequirement already satisfied: aiohttp in /usr/local/lib/python3.11/dist-packages (from torch-geometric) (3.11.11)\n",
            "Requirement already satisfied: fsspec in /usr/local/lib/python3.11/dist-packages (from torch-geometric) (2024.10.0)\n",
            "Requirement already satisfied: jinja2 in /usr/local/lib/python3.11/dist-packages (from torch-geometric) (3.1.5)\n",
            "Requirement already satisfied: numpy in /usr/local/lib/python3.11/dist-packages (from torch-geometric) (1.26.4)\n",
            "Requirement already satisfied: psutil>=5.8.0 in /usr/local/lib/python3.11/dist-packages (from torch-geometric) (5.9.5)\n",
            "Requirement already satisfied: pyparsing in /usr/local/lib/python3.11/dist-packages (from torch-geometric) (3.2.1)\n",
            "Requirement already satisfied: requests in /usr/local/lib/python3.11/dist-packages (from torch-geometric) (2.32.3)\n",
            "Requirement already satisfied: tqdm in /usr/local/lib/python3.11/dist-packages (from torch-geometric) (4.67.1)\n",
            "Requirement already satisfied: aiohappyeyeballs>=2.3.0 in /usr/local/lib/python3.11/dist-packages (from aiohttp->torch-geometric) (2.4.4)\n",
            "Requirement already satisfied: aiosignal>=1.1.2 in /usr/local/lib/python3.11/dist-packages (from aiohttp->torch-geometric) (1.3.2)\n",
            "Requirement already satisfied: attrs>=17.3.0 in /usr/local/lib/python3.11/dist-packages (from aiohttp->torch-geometric) (24.3.0)\n",
            "Requirement already satisfied: frozenlist>=1.1.1 in /usr/local/lib/python3.11/dist-packages (from aiohttp->torch-geometric) (1.5.0)\n",
            "Requirement already satisfied: multidict<7.0,>=4.5 in /usr/local/lib/python3.11/dist-packages (from aiohttp->torch-geometric) (6.1.0)\n",
            "Requirement already satisfied: propcache>=0.2.0 in /usr/local/lib/python3.11/dist-packages (from aiohttp->torch-geometric) (0.2.1)\n",
            "Requirement already satisfied: yarl<2.0,>=1.17.0 in /usr/local/lib/python3.11/dist-packages (from aiohttp->torch-geometric) (1.18.3)\n",
            "Requirement already satisfied: MarkupSafe>=2.0 in /usr/local/lib/python3.11/dist-packages (from jinja2->torch-geometric) (3.0.2)\n",
            "Requirement already satisfied: charset-normalizer<4,>=2 in /usr/local/lib/python3.11/dist-packages (from requests->torch-geometric) (3.4.1)\n",
            "Requirement already satisfied: idna<4,>=2.5 in /usr/local/lib/python3.11/dist-packages (from requests->torch-geometric) (3.10)\n",
            "Requirement already satisfied: urllib3<3,>=1.21.1 in /usr/local/lib/python3.11/dist-packages (from requests->torch-geometric) (2.3.0)\n",
            "Requirement already satisfied: certifi>=2017.4.17 in /usr/local/lib/python3.11/dist-packages (from requests->torch-geometric) (2024.12.14)\n",
            "Downloading torch_geometric-2.6.1-py3-none-any.whl (1.1 MB)\n",
            "\u001b[2K   \u001b[90m━━━━━━━━━━━━━━━━━━━━━━━━━━━━━━━━━━━━━━━━\u001b[0m \u001b[32m1.1/1.1 MB\u001b[0m \u001b[31m10.7 MB/s\u001b[0m eta \u001b[36m0:00:00\u001b[0m\n",
            "\u001b[?25hInstalling collected packages: torch-geometric\n",
            "Successfully installed torch-geometric-2.6.1\n",
            "Requirement already satisfied: transformers in /usr/local/lib/python3.11/dist-packages (4.47.1)\n",
            "Requirement already satisfied: filelock in /usr/local/lib/python3.11/dist-packages (from transformers) (3.16.1)\n",
            "Requirement already satisfied: huggingface-hub<1.0,>=0.24.0 in /usr/local/lib/python3.11/dist-packages (from transformers) (0.27.1)\n",
            "Requirement already satisfied: numpy>=1.17 in /usr/local/lib/python3.11/dist-packages (from transformers) (1.26.4)\n",
            "Requirement already satisfied: packaging>=20.0 in /usr/local/lib/python3.11/dist-packages (from transformers) (24.2)\n",
            "Requirement already satisfied: pyyaml>=5.1 in /usr/local/lib/python3.11/dist-packages (from transformers) (6.0.2)\n",
            "Requirement already satisfied: regex!=2019.12.17 in /usr/local/lib/python3.11/dist-packages (from transformers) (2024.11.6)\n",
            "Requirement already satisfied: requests in /usr/local/lib/python3.11/dist-packages (from transformers) (2.32.3)\n",
            "Requirement already satisfied: tokenizers<0.22,>=0.21 in /usr/local/lib/python3.11/dist-packages (from transformers) (0.21.0)\n",
            "Requirement already satisfied: safetensors>=0.4.1 in /usr/local/lib/python3.11/dist-packages (from transformers) (0.5.2)\n",
            "Requirement already satisfied: tqdm>=4.27 in /usr/local/lib/python3.11/dist-packages (from transformers) (4.67.1)\n",
            "Requirement already satisfied: fsspec>=2023.5.0 in /usr/local/lib/python3.11/dist-packages (from huggingface-hub<1.0,>=0.24.0->transformers) (2024.10.0)\n",
            "Requirement already satisfied: typing-extensions>=3.7.4.3 in /usr/local/lib/python3.11/dist-packages (from huggingface-hub<1.0,>=0.24.0->transformers) (4.12.2)\n",
            "Requirement already satisfied: charset-normalizer<4,>=2 in /usr/local/lib/python3.11/dist-packages (from requests->transformers) (3.4.1)\n",
            "Requirement already satisfied: idna<4,>=2.5 in /usr/local/lib/python3.11/dist-packages (from requests->transformers) (3.10)\n",
            "Requirement already satisfied: urllib3<3,>=1.21.1 in /usr/local/lib/python3.11/dist-packages (from requests->transformers) (2.3.0)\n",
            "Requirement already satisfied: certifi>=2017.4.17 in /usr/local/lib/python3.11/dist-packages (from requests->transformers) (2024.12.14)\n"
          ]
        }
      ]
    },
    {
      "cell_type": "code",
      "execution_count": 18,
      "metadata": {
        "id": "K1n2f6HQAbSU"
      },
      "outputs": [],
      "source": [
        "import torch\n",
        "import torch.nn.functional as F\n",
        "from torch_geometric.data import Data\n",
        "from torch_geometric.nn import SAGEConv\n",
        "from transformers import GPT2Tokenizer, GPT2LMHeadModel\n",
        "import networkx as nx\n",
        "import pandas as pd\n",
        "import numpy as np\n",
        "import matplotlib.pyplot as plt\n",
        "from torch_geometric.utils import from_networkx"
      ]
    },
    {
      "cell_type": "code",
      "source": [
        "url = \"http://snap.stanford.edu/data/wiki-Vote.txt.gz\"\n",
        "!wget -q {url} -O wiki-vote.txt.gz\n",
        "\n",
        "graph = nx.read_edgelist(\"wiki-vote.txt.gz\", create_using=nx.DiGraph())\n",
        "\n",
        "print(f\"Number of nodes in the graph: {graph.number_of_nodes()}\")"
      ],
      "metadata": {
        "id": "k3e-zw8a3g4v",
        "colab": {
          "base_uri": "https://localhost:8080/"
        },
        "outputId": "3f4acf9e-ddea-461d-cdf2-a3b0cbc479aa"
      },
      "execution_count": 4,
      "outputs": [
        {
          "output_type": "stream",
          "name": "stdout",
          "text": [
            "Number of nodes in the graph: 7115\n"
          ]
        }
      ]
    },
    {
      "cell_type": "markdown",
      "source": [
        "# EDA"
      ],
      "metadata": {
        "id": "sA3yC0K-WI0c"
      }
    },
    {
      "cell_type": "code",
      "source": [
        "def eda_graph(graph):\n",
        "    print(\"Graph Information:\")\n",
        "    print(f\"Number of nodes: {graph.number_of_nodes()}\")\n",
        "    print(f\"Number of edges: {graph.number_of_edges()}\")\n",
        "\n",
        "    # Degree distribution\n",
        "    degrees = [d for n, d in graph.degree()]\n",
        "    plt.hist(degrees, bins=50, alpha=0.75)\n",
        "    plt.title(\"Degree Distribution\")\n",
        "    plt.xlabel(\"Degree\")\n",
        "    plt.ylabel(\"Count\")\n",
        "    plt.show()\n",
        "\n",
        "    # Check for connected components\n",
        "    if nx.is_directed(graph):\n",
        "        largest_cc = max(nx.strongly_connected_components(graph), key=len)\n",
        "    else:\n",
        "        largest_cc = max(nx.connected_components(graph), key=len)\n",
        "    print(f\"Largest Connected Component Size: {len(largest_cc)}\")\n",
        "\n",
        "    # Average clustering coefficient\n",
        "    if not nx.is_directed(graph):\n",
        "        print(f\"Average Clustering Coefficient: {nx.average_clustering(graph)}\")\n",
        "    else:\n",
        "        print(\"Clustering coefficient is not defined for directed graphs.\")\n",
        "\n",
        "# Perform EDA\n",
        "eda_graph(graph)"
      ],
      "metadata": {
        "colab": {
          "base_uri": "https://localhost:8080/",
          "height": 563
        },
        "id": "yoszjwwHWFCM",
        "outputId": "0089bd4b-fa92-48e4-af7e-a7577e703f59"
      },
      "execution_count": 11,
      "outputs": [
        {
          "output_type": "stream",
          "name": "stdout",
          "text": [
            "Graph Information:\n",
            "Number of nodes: 7115\n",
            "Number of edges: 103689\n"
          ]
        },
        {
          "output_type": "display_data",
          "data": {
            "text/plain": [
              "<Figure size 640x480 with 1 Axes>"
            ],
            "image/png": "[encoded data removed]"
          },
          "metadata": {}
        },
        {
          "output_type": "stream",
          "name": "stdout",
          "text": [
            "Largest Connected Component Size: 1300\n",
            "Clustering coefficient is not defined for directed graphs.\n"
          ]
        }
      ]
    },
    {
      "cell_type": "markdown",
      "source": [
        "**Mempersiapkan data | Data Preparation**"
      ],
      "metadata": {
        "id": "etthLBzhXBRZ"
      }
    },
    {
      "cell_type": "code",
      "source": [
        "from torch_geometric.utils import from_networkx\n",
        "\n",
        "data = from_networkx(graph)\n",
        "data.x = torch.eye(data.num_nodes)\n",
        "data.edge_attr = None\n",
        "print(data)"
      ],
      "metadata": {
        "colab": {
          "base_uri": "https://localhost:8080/"
        },
        "id": "Opgff368W4Ra",
        "outputId": "755a5cc0-9acd-4ae2-9aae-9173f1f7ef0b"
      },
      "execution_count": 12,
      "outputs": [
        {
          "output_type": "stream",
          "name": "stdout",
          "text": [
            "Data(edge_index=[2, 103689], num_nodes=7115, x=[7115, 7115])\n"
          ]
        }
      ]
    },
    {
      "cell_type": "markdown",
      "source": [
        "**Define the GNN Model**"
      ],
      "metadata": {
        "id": "Dhnsmb1PXKSZ"
      }
    },
    {
      "cell_type": "code",
      "source": [
        "class GraphSAGEModel(torch.nn.Module):\n",
        "    def __init__(self, in_channels, hidden_channels, out_channels):\n",
        "        super(GraphSAGEModel, self).__init__()\n",
        "        self.conv1 = SAGEConv(in_channels, hidden_channels)\n",
        "        self.conv2 = SAGEConv(hidden_channels, out_channels)\n",
        "\n",
        "    def forward(self, x, edge_index):\n",
        "        x = self.conv1(x, edge_index)\n",
        "        x = F.relu(x)\n",
        "        x = self.conv2(x, edge_index)\n",
        "        return x\n",
        "\n",
        "# Hyperparameters\n",
        "in_channels = data.num_features\n",
        "hidden_channels = 64\n",
        "out_channels = 128  # Embedding dimension\n",
        "\n",
        "model = GraphSAGEModel(in_channels, hidden_channels, out_channels)\n",
        "optimizer = torch.optim.Adam(model.parameters(), lr=0.01)"
      ],
      "metadata": {
        "id": "sr2dycifW_E8"
      },
      "execution_count": 15,
      "outputs": []
    },
    {
      "cell_type": "markdown",
      "source": [
        "**Training Model**"
      ],
      "metadata": {
        "id": "qXFy6NAIYl7N"
      }
    },
    {
      "cell_type": "code",
      "source": [
        "def train_gnn(data, model, optimizer, epochs=10):\n",
        "    model.train()\n",
        "    for epoch in range(epochs):\n",
        "        optimizer.zero_grad()\n",
        "        embeddings = model(data.x, data.edge_index)\n",
        "\n",
        "        # Sample positive and negative pairs for contrastive loss\n",
        "        # Replace this with your preferred sampling strategy\n",
        "        positive_pairs = torch.randint(0, data.num_nodes, (100, 2))\n",
        "        negative_pairs = torch.randint(0, data.num_nodes, (100, 2))\n",
        "\n",
        "        # Calculate similarity scores\n",
        "        positive_similarity = F.cosine_similarity(embeddings[positive_pairs[:, 0]], embeddings[positive_pairs[:, 1]])\n",
        "        negative_similarity = F.cosine_similarity(embeddings[negative_pairs[:, 0]], embeddings[negative_pairs[:, 1]])\n",
        "\n",
        "        # Contrastive loss (e.g., margin loss)\n",
        "        loss = torch.mean(torch.clamp(1 - positive_similarity + negative_similarity, min=0))\n",
        "\n",
        "        loss.backward()\n",
        "        optimizer.step()\n",
        "        print(f\"Epoch {epoch+1}, Loss: {loss.item():.4f}\")\n",
        "\n",
        "train_gnn(data, model, optimizer)\n",
        "\n",
        "# Extract node embeddings\n",
        "node_embeddings = model(data.x, data.edge_index).detach()"
      ],
      "metadata": {
        "colab": {
          "base_uri": "https://localhost:8080/"
        },
        "id": "vOpX3fGkYoag",
        "outputId": "904d54a7-7862-4689-db98-0b227ef60114"
      },
      "execution_count": 21,
      "outputs": [
        {
          "output_type": "stream",
          "name": "stdout",
          "text": [
            "Epoch 1, Loss: 1.0048\n",
            "Epoch 2, Loss: 1.0251\n",
            "Epoch 3, Loss: 0.9874\n",
            "Epoch 4, Loss: 1.0059\n",
            "Epoch 5, Loss: 0.9944\n",
            "Epoch 6, Loss: 1.0133\n",
            "Epoch 7, Loss: 0.9947\n",
            "Epoch 8, Loss: 0.9938\n",
            "Epoch 9, Loss: 1.0004\n",
            "Epoch 10, Loss: 0.9985\n"
          ]
        }
      ]
    },
    {
      "cell_type": "markdown",
      "source": [
        "**LLM integration**"
      ],
      "metadata": {
        "id": "0QUfXj-UYsX_"
      }
    },
    {
      "cell_type": "code",
      "source": [
        "# Load pre-trained GPT-2 model\n",
        "llm_model_name = \"gpt2\"\n",
        "tokenizer = GPT2Tokenizer.from_pretrained(llm_model_name)\n",
        "llm_model = GPT2LMHeadModel.from_pretrained(llm_model_name)\n",
        "\n",
        "# Prepare input text for LLM using node embeddings\n",
        "node_id = 0  # Example: Use the embedding of the first node\n",
        "embedding_text = f\"Node {node_id} embedding: {node_embeddings[node_id].tolist()}\"\n",
        "\n",
        "# Truncate or summarize the embedding_text if it's too long\n",
        "# Here, we truncate to the first 50 tokens\n",
        "max_input_length = 50  # Adjust this value as needed\n",
        "truncated_embedding_text = tokenizer.decode(tokenizer.encode(embedding_text, truncation=True, max_length=max_input_length))\n",
        "\n",
        "input_ids = tokenizer.encode(truncated_embedding_text, return_tensors=\"pt\")\n",
        "\n",
        "# Generate text based on node embedding\n",
        "llm_model.eval()\n",
        "with torch.no_grad():\n",
        "    # Increase max_length or set max_new_tokens to accommodate longer input\n",
        "    output = llm_model.generate(input_ids, max_length=100, num_return_sequences=1)\n",
        "    generated_text = tokenizer.decode(output[0], skip_special_tokens=True)\n",
        "\n",
        "print(f\"Generated Text for Node {node_id}: {generated_text}\")"
      ],
      "metadata": {
        "colab": {
          "base_uri": "https://localhost:8080/"
        },
        "id": "2yRmgR22avpg",
        "outputId": "883b97f1-f92a-45c7-fb9a-3e6af681c6cc"
      },
      "execution_count": 23,
      "outputs": [
        {
          "output_type": "stream",
          "name": "stderr",
          "text": [
            "The attention mask and the pad token id were not set. As a consequence, you may observe unexpected behavior. Please pass your input's `attention_mask` to obtain reliable results.\n",
            "Setting `pad_token_id` to `eos_token_id`:50256 for open-end generation.\n"
          ]
        },
        {
          "output_type": "stream",
          "name": "stdout",
          "text": [
            "Generated Text for Node 0: Node 0 embedding: [-0.1284712851047516, -0.024373311549425125, 0.4052131175994873, -0.03499878942966461, -0.037757575757575, -0.037757575757575, -0.037757575757575, -0.037757575757575, -0.\n"
          ]
        }
      ]
    },
    {
      "cell_type": "markdown",
      "source": [
        "**Kesimpulan**  \n",
        "\n",
        "Pada percobaan tersebut, nilai Loss terlalu tinggi, pada embedding/model kali ini, terdapat masalah antara overfitting data atau earning rate terlalu tinggi"
      ],
      "metadata": {
        "id": "-TbkkAaUazB6"
      }
    }
  ]
}